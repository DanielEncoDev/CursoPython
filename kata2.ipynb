{
 "cells": [
  {
   "cell_type": "markdown",
   "metadata": {},
   "source": [
    "# Kata 2\n",
    "\n",
    "# Favor de revisar la carpera de Kata2 donde anexo el pdf con los pasos a seguir en esta kata. Gracias :)"
   ]
  }
 ],
 "metadata": {
  "language_info": {
   "name": "python"
  },
  "orig_nbformat": 4
 },
 "nbformat": 4,
 "nbformat_minor": 2
}
